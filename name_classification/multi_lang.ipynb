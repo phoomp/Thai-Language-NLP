{
 "cells": [
  {
   "cell_type": "code",
   "execution_count": 2,
   "metadata": {},
   "outputs": [],
   "source": [
    "from __future__ import unicode_literals\n",
    "\n",
    "import glob\n",
    "import os\n",
    "import string\n",
    "import unicodedata\n",
    "import random"
   ]
  },
  {
   "cell_type": "code",
   "execution_count": 3,
   "metadata": {},
   "outputs": [],
   "source": [
    "import torch\n",
    "from torch import nn\n",
    "from torch.utils.data import Dataset, DataLoader\n",
    "\n",
    "import numpy as np\n",
    "from matplotlib import pyplot as plt"
   ]
  },
  {
   "cell_type": "code",
   "execution_count": null,
   "metadata": {},
   "outputs": [],
   "source": [
    "# TRAIN_DS_PATH = '/Users/phoom/Documents/thai_intent/datasets/names/*.txt'\n",
    "TRAIN_DS_PATH = '/home/phoom/Desktop/data/names/*.txt'"
   ]
  },
  {
   "cell_type": "code",
   "execution_count": 4,
   "metadata": {},
   "outputs": [],
   "source": [
    "batch_size = 1"
   ]
  },
  {
   "cell_type": "code",
   "execution_count": 5,
   "metadata": {},
   "outputs": [
    {
     "name": "stdout",
     "output_type": "stream",
     "text": [
      "['/Users/phoom/Documents/thai_intent/datasets/names/Czech.txt', '/Users/phoom/Documents/thai_intent/datasets/names/German.txt', '/Users/phoom/Documents/thai_intent/datasets/names/Arabic.txt', '/Users/phoom/Documents/thai_intent/datasets/names/Japanese.txt', '/Users/phoom/Documents/thai_intent/datasets/names/Chinese.txt', '/Users/phoom/Documents/thai_intent/datasets/names/Vietnamese.txt', '/Users/phoom/Documents/thai_intent/datasets/names/Russian.txt', '/Users/phoom/Documents/thai_intent/datasets/names/French.txt', '/Users/phoom/Documents/thai_intent/datasets/names/Irish.txt', '/Users/phoom/Documents/thai_intent/datasets/names/English.txt', '/Users/phoom/Documents/thai_intent/datasets/names/Spanish.txt', '/Users/phoom/Documents/thai_intent/datasets/names/Greek.txt', '/Users/phoom/Documents/thai_intent/datasets/names/Italian.txt', '/Users/phoom/Documents/thai_intent/datasets/names/Portuguese.txt', '/Users/phoom/Documents/thai_intent/datasets/names/Scottish.txt', '/Users/phoom/Documents/thai_intent/datasets/names/Dutch.txt', '/Users/phoom/Documents/thai_intent/datasets/names/Korean.txt', '/Users/phoom/Documents/thai_intent/datasets/names/Polish.txt']\n"
     ]
    }
   ],
   "source": [
    "def find_files(path):\n",
    "    return glob.glob(path)\n",
    "\n",
    "print(find_files(TRAIN_DS_PATH))"
   ]
  },
  {
   "cell_type": "code",
   "execution_count": 6,
   "metadata": {},
   "outputs": [],
   "source": [
    "all_letters = string.ascii_letters + \".,;\"\n",
    "n_letters = len(all_letters)"
   ]
  },
  {
   "cell_type": "code",
   "execution_count": 7,
   "metadata": {},
   "outputs": [
    {
     "name": "stdout",
     "output_type": "stream",
     "text": [
      "Slusarski\n"
     ]
    }
   ],
   "source": [
    "def unicode_to_ascii(s):\n",
    "    return ''.join(char for char in unicodedata.normalize('NFD', s)\n",
    "                   if unicodedata.category(char) != 'Mn' and char in all_letters\n",
    "                   )\n",
    "    \n",
    "print(unicode_to_ascii('Ślusàrski'))"
   ]
  },
  {
   "cell_type": "code",
   "execution_count": 8,
   "metadata": {},
   "outputs": [
    {
     "name": "stdout",
     "output_type": "stream",
     "text": [
      "['Czech', 'German', 'Arabic', 'Japanese', 'Chinese', 'Vietnamese', 'Russian', 'French', 'Irish', 'English', 'Spanish', 'Greek', 'Italian', 'Portuguese', 'Scottish', 'Dutch', 'Korean', 'Polish']\n",
      "abcdefghijklmnopqrstuvwxyzABCDEFGHIJKLMNOPQRSTUVWXYZ.,;\n"
     ]
    }
   ],
   "source": [
    "category_lines = {}\n",
    "category_map = {}\n",
    "all_categories = []\n",
    "\n",
    "def read_lines(filename):\n",
    "    lines = open(filename, encoding='utf-8').read().strip().split('\\n')\n",
    "    return [unicode_to_ascii(line) for line in lines]\n",
    "\n",
    "for filename in find_files('/Users/phoom/Documents/thai_intent/datasets/names/*.txt'):\n",
    "    category = os.path.splitext(os.path.basename(filename))[0]\n",
    "    all_categories.append(category)\n",
    "    lines = read_lines(filename)\n",
    "    category_lines[category] = lines\n",
    "    \n",
    "n_categories = len(all_categories)\n",
    "\n",
    "print(all_categories)\n",
    "print(all_letters)"
   ]
  },
  {
   "cell_type": "code",
   "execution_count": 9,
   "metadata": {},
   "outputs": [],
   "source": [
    "class NameDataset(Dataset):\n",
    "    def __init__(self, n_letters, all_letters, all_categories, category_lines):\n",
    "        self.n_letters = n_letters\n",
    "        self.all_letters = all_letters\n",
    "        self.all_categories = all_categories\n",
    "        self.category_map = {}\n",
    "        \n",
    "        self.names = []\n",
    "        self.labels = []\n",
    "        \n",
    "        for i, category in enumerate(all_categories):\n",
    "            self.category_map[category] = i\n",
    "            \n",
    "        print(self.category_map)\n",
    "        \n",
    "        for category, names in category_lines.items():\n",
    "            for name in names:\n",
    "                self.names.append(name)\n",
    "                self.labels.append(self.category_map[category])\n",
    "                \n",
    "                \n",
    "        self.names = np.array(self.names)\n",
    "        self.labels = np.array(self.labels)\n",
    "                \n",
    "        \n",
    "    def __len__(self):\n",
    "        assert len(self.names) == len(self.labels)\n",
    "        return len(self.labels)\n",
    "    \n",
    "    \n",
    "    def __getitem__(self, idx):\n",
    "        idx = np.random.choice(self.labels.shape[0], size=1, replace=False)        \n",
    "        ret_name = self.names[idx]\n",
    "        ret_label = self.labels[idx]\n",
    "\n",
    "        ret_name = self.line_to_tensor(ret_name)\n",
    "        ret_label = torch.Tensor(ret_label)\n",
    "        \n",
    "        return ret_name, ret_label\n",
    "        \n",
    "    \n",
    "    def letter_to_idx(self, letter):\n",
    "        return self.all_letters.find(letter)\n",
    "    \n",
    "    \n",
    "    def line_to_tensor(self, line):\n",
    "        tensor = torch.zeros(len(line), 1, self.n_letters)\n",
    "        for i, letter in enumerate(line):\n",
    "            tensor[i][0][self.letter_to_idx(letter)] = 1\n",
    "            \n",
    "        return tensor\n",
    "            "
   ]
  },
  {
   "cell_type": "code",
   "execution_count": 10,
   "metadata": {},
   "outputs": [],
   "source": [
    "class SimpleLSTM(nn.Module):\n",
    "    def __init__(self, batch_size, vocab_size, hidden_size, num_layers):\n",
    "        super().__init__()        \n",
    "        self.lstm = nn.LSTM(batch_size * vocab_size, hidden_size, num_layers)\n",
    "\n",
    "        self.fc1 = nn.Sequential(\n",
    "            nn.Linear(128, 18),\n",
    "            # nn.LogSoftmax(dim=1)\n",
    "        )\n",
    "        \n",
    "    def forward(self, x, h_n, c_n):\n",
    "        output, (h_n, c_n) = self.lstm(x, (h_n, c_n))\n",
    "        x = self.fc1(output)\n",
    "        \n",
    "        return x, (h_n, c_n)"
   ]
  },
  {
   "cell_type": "code",
   "execution_count": null,
   "metadata": {},
   "outputs": [
    {
     "name": "stdout",
     "output_type": "stream",
     "text": [
      "{'Czech': 0, 'German': 1, 'Arabic': 2, 'Japanese': 3, 'Chinese': 4, 'Vietnamese': 5, 'Russian': 6, 'French': 7, 'Irish': 8, 'English': 9, 'Spanish': 10, 'Greek': 11, 'Italian': 12, 'Portuguese': 13, 'Scottish': 14, 'Dutch': 15, 'Korean': 16, 'Polish': 17}\n"
     ]
    }
   ],
   "source": [
    "hidden_size = 64\n",
    "num_layers = 2\n",
    "\n",
    "device = 'mps'\n",
    "\n",
    "dataset = NameDataset(n_letters, all_letters, all_categories, category_lines)\n",
    "model = SimpleLSTM(batch_size, n_letters, hidden_size, num_layers).to(device)\n",
    "loss_fn = nn.CrossEntropyLoss()\n",
    "optimizer = torch.optim.Adam(model.parameters(), lr=1e-3)\n",
    "\n",
    "h_n = torch.randn((2, hidden_size)).to(device)\n",
    "c_n = torch.randn((2, hidden_size)).to(device)\n",
    "\n",
    "for batch, (name, category) in enumerate(dataset):\n",
    "    name = name.to(device)\n",
    "    category = category.to(device)\n",
    "    \n",
    "    for i in range(name.size()[0]):\n",
    "        output, (h_n, c_n) = model(name[i], h_n, c_n)     \n",
    "        \n",
    "    print(output)\n",
    "    loss = loss_fn(output, category)\n",
    "    print(batch)\n",
    "    print(loss.item())\n",
    "    \n",
    "    optimizer.zero_grad()\n",
    "    loss.backward()\n",
    "    optimizer.step()\n",
    "    "
   ]
  }
 ],
 "metadata": {
  "kernelspec": {
   "display_name": "Python 3.10.5 ('torch')",
   "language": "python",
   "name": "python3"
  },
  "language_info": {
   "codemirror_mode": {
    "name": "ipython",
    "version": 3
   },
   "file_extension": ".py",
   "mimetype": "text/x-python",
   "name": "python",
   "nbconvert_exporter": "python",
   "pygments_lexer": "ipython3",
   "version": "3.10.5"
  },
  "vscode": {
   "interpreter": {
    "hash": "0f47f274da7910b4e07bc082bf4e8143ec227baf906c4d7e63b0f3d2a2aaf284"
   }
  }
 },
 "nbformat": 4,
 "nbformat_minor": 2
}
